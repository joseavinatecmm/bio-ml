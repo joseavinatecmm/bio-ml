{
 "cells": [
  {
   "cell_type": "markdown",
   "metadata": {},
   "source": [
    "# Machine Learning\n",
    "\n",
    "### Predictive Analysis with simple linear Regression"
   ]
  },
  {
   "cell_type": "markdown",
   "metadata": {},
   "source": [
    "#### The relation is: \n",
    "\n",
    "$y = \\beta_0 + \\beta_1 x + \\epsilon$\n",
    "\n",
    "#### The regression Linear\n",
    "\n",
    "$\\hat{y}= \\beta_0 + \\beta_1 x + \\epsilon$"
   ]
  },
  {
   "cell_type": "markdown",
   "metadata": {},
   "source": [
    "#### The loss function $\\mathcal{E}$\n",
    "$\\mathcal{\\mathcal{E}}=\\sum\\limits_{j=1}^n (y_j - \\hat{y}_j)^2$"
   ]
  },
  {
   "cell_type": "markdown",
   "metadata": {},
   "source": [
    "#### Now, to minimize the $\\mathcal{E}$ with respect to $\\beta_0$"
   ]
  },
  {
   "cell_type": "markdown",
   "metadata": {},
   "source": [
    "$\\frac{\\mathcal{\\partial E}}{\\partial \\beta_0} = 0$"
   ]
  },
  {
   "cell_type": "markdown",
   "metadata": {},
   "source": [
    "con $\\mathcal{\\mathcal{E}}=\\sum\\limits_{j=1}^n (y_j - \\hat{y}_j)^2$"
   ]
  },
  {
   "cell_type": "markdown",
   "metadata": {},
   "source": [
    "$\\frac{\\mathcal{\\partial E}}{\\partial \\beta_0} = \\sum\\limits_{j=1}^n [y_j - (\\beta_0+\\beta_1 x)]^2$"
   ]
  },
  {
   "cell_type": "markdown",
   "metadata": {},
   "source": [
    "$\\frac{\\mathcal{\\partial E}}{\\partial \\beta_0} = \\sum\\limits_{j=1}^n [y_j - (\\beta_0+\\beta_1 x)]^{(2-1)}$"
   ]
  },
  {
   "cell_type": "markdown",
   "metadata": {},
   "source": [
    "$\\frac{\\mathcal{\\partial E}}{\\partial \\beta_0} = 2 \\sum\\limits_{j=1}^n [y_j - (\\beta_0+\\beta_1 x)]^{(2-1)} * f'$"
   ]
  },
  {
   "cell_type": "markdown",
   "metadata": {},
   "source": [
    "$\\frac{\\mathcal{\\partial E}}{\\partial \\beta_0} = 2 \\sum\\limits_{j=1}^n [y_j - (\\beta_0+\\beta_1 x)]^{(2-1)} * \\frac{\\mathcal{\\partial E}}{\\partial \\beta_0} [y_j - (\\beta_0+\\beta_1 x)]$"
   ]
  },
  {
   "cell_type": "markdown",
   "metadata": {},
   "source": [
    "$\\frac{\\mathcal{\\partial E}}{\\partial \\beta_0} = 2 \\sum\\limits_{j=1}^n [y_j - (\\beta_0+\\beta_1 x)]^1 * (-1)$"
   ]
  },
  {
   "cell_type": "markdown",
   "metadata": {},
   "source": [
    "$\\frac{\\mathcal{\\partial E}}{\\partial \\beta_0} = 2 \\sum\\limits_{j=1}^n [-y_j + (\\beta_0+\\beta_1 x)]$"
   ]
  },
  {
   "cell_type": "markdown",
   "metadata": {},
   "source": [
    "$\\frac{\\mathcal{\\partial E}}{\\partial \\beta_0} = 2 \\sum\\limits_{j=1}^n [-y_j + \\beta_0+\\beta_1 x_j)]$"
   ]
  },
  {
   "cell_type": "markdown",
   "metadata": {},
   "source": [
    "con $\\frac{\\mathcal{\\partial E}}{\\partial \\beta_0} = 0$"
   ]
  },
  {
   "cell_type": "markdown",
   "metadata": {},
   "source": [
    "$2 \\sum\\limits_{j=1}^n (-y_j + \\beta_0+\\beta_1 x_j)=0$"
   ]
  },
  {
   "cell_type": "markdown",
   "metadata": {},
   "source": [
    "$\\sum\\limits_{j=1}^n (-y_j + \\beta_0+\\beta_1 x_j)=0$"
   ]
  },
  {
   "cell_type": "markdown",
   "metadata": {},
   "source": [
    "$-\\sum\\limits_{j=1}^n y_j + \\beta_0\\sum\\limits_{j=1}^n +\\beta_1 \\sum\\limits_{j=1}^nx_j=0$"
   ]
  },
  {
   "cell_type": "markdown",
   "metadata": {},
   "source": [
    " $\\beta_0*n +\\beta_1 \\sum\\limits_{j=1}^nx_j=\\sum\\limits_{j=1}^n y_j $"
   ]
  },
  {
   "cell_type": "markdown",
   "metadata": {},
   "source": [
    " * n is due to:\n",
    " $\\ \\ \\ \\sum\\limits_{j=1}^n = 1 + 1 + \\ldots + 1 $"
   ]
  },
  {
   "cell_type": "markdown",
   "metadata": {},
   "source": [
    " $n\\beta_0  +\\beta_1 \\sum\\limits_{j=1}^nx_j=\\sum\\limits_{j=1}^n y_j \\ \\ \\ \\ (Eq.\\  1)$"
   ]
  },
  {
   "cell_type": "markdown",
   "metadata": {},
   "source": [
    "#### To minimize the $\\mathcal{E}$ with respect to $\\beta_1$\n",
    "\n",
    "$\\frac{\\mathcal{\\partial E}}{\\partial \\beta_1} = 0$"
   ]
  },
  {
   "cell_type": "markdown",
   "metadata": {},
   "source": [
    "$\\frac{\\mathcal{\\partial E}}{\\partial \\beta_1} = \\sum\\limits_{j=1}^n [y_j - (\\beta_0+\\beta_1*x_j)]^2$"
   ]
  },
  {
   "cell_type": "markdown",
   "metadata": {},
   "source": [
    "$f(\\beta)^n = nf(\\beta)^{n-1}*f(\\beta)'$"
   ]
  },
  {
   "cell_type": "markdown",
   "metadata": {},
   "source": [
    "$\\frac{\\mathcal{\\partial E}}{\\partial \\beta_1} =$\n"
   ]
  },
  {
   "cell_type": "markdown",
   "metadata": {},
   "source": [
    "$\\vdots$"
   ]
  },
  {
   "cell_type": "markdown",
   "metadata": {},
   "source": [
    "$\\beta_0 \\sum\\limits_{j=1}^nx_j +\\beta_1 \\sum\\limits_{j=1}^nx_j^2=\\sum\\limits_{j=1}^n x_j*y_j \\ \\ \\ (Eq. 2)$ "
   ]
  },
  {
   "cell_type": "markdown",
   "metadata": {},
   "source": [
    "---"
   ]
  },
  {
   "cell_type": "markdown",
   "metadata": {},
   "source": [
    "## System of Linear equations"
   ]
  },
  {
   "cell_type": "markdown",
   "metadata": {},
   "source": [
    "1. $n\\beta_0  +\\beta_1 \\sum\\limits_{j=1}^nx_j=\\sum\\limits_{j=1}^n y_j $"
   ]
  },
  {
   "cell_type": "markdown",
   "metadata": {},
   "source": [
    "2. $\\beta_0 \\sum\\limits_{j=1}^nx_j +\\beta_1 \\sum\\limits_{j=1}^nx_j^2=\\sum\\limits_{j=1}^n x_j*y_j $"
   ]
  },
  {
   "cell_type": "markdown",
   "metadata": {},
   "source": [
    "---"
   ]
  },
  {
   "cell_type": "markdown",
   "metadata": {},
   "source": [
    "## The matrix notation \n",
    "##### of the System of linear equations"
   ]
  },
  {
   "cell_type": "markdown",
   "metadata": {},
   "source": [
    "$\n",
    "\\begin{bmatrix}\n",
    "n & \\sum\\limits_{j=1}^n x_j \\\\\n",
    "\\sum\\limits_{j=1}^n x_j & \\sum\\limits_{j=1}^n x^2_j\n",
    "\\end{bmatrix}\n",
    "*\n",
    "\\begin{bmatrix}\n",
    "\\beta_0\\\\\n",
    "\\beta_1\n",
    "\\end{bmatrix}\n",
    "=\\begin{bmatrix}\n",
    "\\sum\\limits_{j=1}^n y_j\\\\\n",
    "\\sum\\limits_{j=1}^n x_j*y_j\n",
    "\\end{bmatrix}\n",
    "$\n"
   ]
  },
  {
   "cell_type": "markdown",
   "metadata": {},
   "source": [
    "#### We proceed to solve with the Cramer's rule for $2\\times2$ systems"
   ]
  },
  {
   "cell_type": "markdown",
   "metadata": {},
   "source": [
    "- more info in https://math.libretexts.org/Bookshelves/Precalculus/Precalculus_1e_(OpenStax)/09%3A_Systems_of_Equations_and_Inequalities/9.08%3A_Solving_Systems_with_Cramer's_Rule"
   ]
  },
  {
   "cell_type": "markdown",
   "metadata": {},
   "source": [
    "We have "
   ]
  },
  {
   "cell_type": "markdown",
   "metadata": {},
   "source": [
    "$D_s=?, $"
   ]
  },
  {
   "cell_type": "markdown",
   "metadata": {},
   "source": [
    "$D_{\\beta_1}=?, $\n"
   ]
  },
  {
   "cell_type": "markdown",
   "metadata": {},
   "source": [
    "$\\beta_1= \\frac{D_{\\beta1}}{D_s}$"
   ]
  },
  {
   "cell_type": "markdown",
   "metadata": {},
   "source": [
    "The solution is:"
   ]
  },
  {
   "cell_type": "markdown",
   "metadata": {},
   "source": [
    "$D_s = n \\sum\\limits_{j=1}^n x^2_j - (\\sum\\limits_{j=1}^n x_j)^2$"
   ]
  },
  {
   "cell_type": "markdown",
   "metadata": {},
   "source": [
    "$D_{\\beta_1} = n \\sum\\limits_{j=1}^n x_j  y_j - \\sum\\limits_{j=1}^n x_j \\sum\\limits_{j=1}^n y_j$"
   ]
  },
  {
   "cell_type": "markdown",
   "metadata": {},
   "source": [
    "\n",
    "$3. \\beta_0 = \\frac{\\sum\\limits_{j=1}^n y_j- \\beta_1\\sum\\limits_{j=1}^nx_j}{n}$"
   ]
  },
  {
   "cell_type": "markdown",
   "metadata": {},
   "source": [
    "$4. \\beta_1 = \\frac{n \\sum\\limits_{j=1}^n x_jy_j - \\sum\\limits_{j=1}^n x_j \\sum\\limits_{j=1}^n y_j } {n \\sum\\limits_{j=1}^n x^2_j - [\\sum\\limits_{j=1}^n x_j]^2}$"
   ]
  },
  {
   "cell_type": "markdown",
   "metadata": {},
   "source": [
    "Sigue de la ecuación 3, tal que:"
   ]
  },
  {
   "cell_type": "markdown",
   "metadata": {},
   "source": [
    "$5.\\ \\ \\beta_0 = \\bar{y} - \\beta_1 \\bar{x}$"
   ]
  },
  {
   "cell_type": "markdown",
   "metadata": {},
   "source": [
    "Y finalmente, otra alternativa para $\\beta_0$ que surge de la aplicación de la notación de matrices resueltas con la ley de Cramer, nos de la siguiente ecuación:\n"
   ]
  },
  {
   "cell_type": "markdown",
   "metadata": {},
   "source": [
    "$6. \\beta_0 = \\frac{\\sum\\limits_{j=1}^n x_j^2 \\sum\\limits_{j=1}^n y_j \\ -\\  \\sum\\limits_{j=1}^n x_j \\sum\\limits_{j=1}^n x_jy_j } {n \\sum\\limits_{j=1}^n x^2_j \\ - \\ [\\sum\\limits_{j=1}^n x_j]^2}$"
   ]
  },
  {
   "cell_type": "markdown",
   "metadata": {},
   "source": [
    "Sírvase comparar esta última ecuación con la que se propone en el tutorial: \"How to create your own simple linear regression equation\" de https://owlcation.com/stem/How-to-Create-a-Simple-Linear-Regression-Equation"
   ]
  }
 ],
 "metadata": {
  "language_info": {
   "name": "python"
  }
 },
 "nbformat": 4,
 "nbformat_minor": 2
}
